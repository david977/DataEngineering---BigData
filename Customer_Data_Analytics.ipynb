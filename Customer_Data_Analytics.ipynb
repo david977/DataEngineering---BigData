{
 "cells": [
  {
   "cell_type": "code",
   "execution_count": 10,
   "metadata": {},
   "outputs": [],
   "source": [
    "import csv\n",
    "import sqlite3\n",
    "import pandas as pd\n",
    "import numpy as np\n",
    "conn = sqlite3.connect('customers'+ '.sqlite')"
   ]
  },
  {
   "cell_type": "code",
   "execution_count": 2,
   "metadata": {},
   "outputs": [],
   "source": [
    "import sqlite3\n",
    "import csv\n",
    "#import pyodbc\n",
    "\n",
    "conn = sqlite3.connect('customers'+ '.sqlite')\n",
    "\n",
    "cur = conn.cursor()\n",
    "cur.execute('CREATE TABLE Bill_Sales(Bill int primary key, Sales float, Customer varchar(10))')\n",
    "\n",
    "with open('Bill_Sales.csv','r') as fin: # `with` statement available in 2.5+\n",
    "    # csv.DictReader uses first line in file for column headings by default\n",
    "    dr = csv.DictReader(fin) # comma is default delimiter\n",
    "    to_db = [(i['Bill'], i['Sales'], i['Customer']) for i in dr]\n",
    "\n",
    "cur.executemany(\"INSERT INTO Bill_Sales (Bill, Sales, Customer) VALUES (?, ?, ?);\", to_db)\n",
    "conn.commit()"
   ]
  },
  {
   "cell_type": "code",
   "execution_count": 3,
   "metadata": {},
   "outputs": [],
   "source": [
    "cur = conn.cursor()\n",
    "cur.execute('CREATE TABLE Freight(Delivery varchar(15) , Road double, Parcel double, Sea double, Air double)');"
   ]
  },
  {
   "cell_type": "code",
   "execution_count": 4,
   "metadata": {},
   "outputs": [
    {
     "name": "stdout",
     "output_type": "stream",
     "text": [
      "Successful!\n"
     ]
    }
   ],
   "source": [
    "with open('Freight.csv', 'r') as fin:  # `with` statement available in 2.5+\n",
    "    # csv.DictReader uses first line in file for column headings by default\n",
    "    dr = csv.DictReader(fin)  # comma is default delimiter\n",
    "    to_db = []\n",
    "    for item in dr:\n",
    "        for delivery in item['Delivery'].split('|'):\n",
    "            #print((delivery, item['Road'], item['Parcel'], item['Sea'], item['Air']))\n",
    "            to_db.append((delivery, item['Road'], item['Parcel'], item['Sea'], item['Air']))\n",
    "    print('Successful!')"
   ]
  },
  {
   "cell_type": "code",
   "execution_count": 5,
   "metadata": {},
   "outputs": [],
   "source": [
    "cur.executemany(\"INSERT INTO Freight (Delivery, Road, Parcel, Sea, Air) VALUES (?, ?, ?, ?, ?);\", to_db);"
   ]
  },
  {
   "cell_type": "code",
   "execution_count": 6,
   "metadata": {},
   "outputs": [],
   "source": [
    "cur.execute('CREATE TABLE Bill_Delivery_items(Bill , Delivery int, Items int)')\n",
    "\n",
    "with open('Bill_Delivery_Items.csv','r') as fin: # `with` statement available in 2.5+\n",
    "    # csv.DictReader uses first line in file for column headings by default\n",
    "    dr = csv.DictReader(fin) # comma is default delimiter\n",
    "    to_db = [(i['Bill'], i['Delivery'], i['Items']) for i in dr]\n",
    "\n",
    "cur.executemany(\"INSERT INTO Bill_Delivery_items (Bill, Delivery, Items) VALUES (?, ?, ?);\", to_db)\n",
    "conn.commit()\n",
    "#conn.close()\n"
   ]
  },
  {
   "cell_type": "code",
   "execution_count": 7,
   "metadata": {},
   "outputs": [
    {
     "data": {
      "text/plain": [
       "<sqlite3.Cursor at 0x2b03a00eb90>"
      ]
     },
     "execution_count": 7,
     "metadata": {},
     "output_type": "execute_result"
    }
   ],
   "source": [
    "cur.execute(\"SELECT * FROM Freight;\" )"
   ]
  },
  {
   "cell_type": "code",
   "execution_count": 8,
   "metadata": {},
   "outputs": [
    {
     "data": {
      "text/html": [
       "<div>\n",
       "<style scoped>\n",
       "    .dataframe tbody tr th:only-of-type {\n",
       "        vertical-align: middle;\n",
       "    }\n",
       "\n",
       "    .dataframe tbody tr th {\n",
       "        vertical-align: top;\n",
       "    }\n",
       "\n",
       "    .dataframe thead th {\n",
       "        text-align: right;\n",
       "    }\n",
       "</style>\n",
       "<table border=\"1\" class=\"dataframe\">\n",
       "  <thead>\n",
       "    <tr style=\"text-align: right;\">\n",
       "      <th></th>\n",
       "      <th>Delivery</th>\n",
       "      <th>Road</th>\n",
       "      <th>Parcel</th>\n",
       "      <th>Sea</th>\n",
       "      <th>Air</th>\n",
       "    </tr>\n",
       "  </thead>\n",
       "  <tbody>\n",
       "    <tr>\n",
       "      <th>0</th>\n",
       "      <td>64581971278</td>\n",
       "      <td>NULL</td>\n",
       "      <td>NULL</td>\n",
       "      <td>42.2</td>\n",
       "      <td>NULL</td>\n",
       "    </tr>\n",
       "    <tr>\n",
       "      <th>1</th>\n",
       "      <td>100086743691</td>\n",
       "      <td>48.93</td>\n",
       "      <td>NULL</td>\n",
       "      <td>NULL</td>\n",
       "      <td>NULL</td>\n",
       "    </tr>\n",
       "    <tr>\n",
       "      <th>2</th>\n",
       "      <td>87370225</td>\n",
       "      <td>NULL</td>\n",
       "      <td>7.74</td>\n",
       "      <td>NULL</td>\n",
       "      <td>NULL</td>\n",
       "    </tr>\n",
       "    <tr>\n",
       "      <th>3</th>\n",
       "      <td>61929359</td>\n",
       "      <td>NULL</td>\n",
       "      <td>7.74</td>\n",
       "      <td>NULL</td>\n",
       "      <td>NULL</td>\n",
       "    </tr>\n",
       "    <tr>\n",
       "      <th>4</th>\n",
       "      <td>100060965448</td>\n",
       "      <td>NULL</td>\n",
       "      <td>NULL</td>\n",
       "      <td>38.19</td>\n",
       "      <td>NULL</td>\n",
       "    </tr>\n",
       "  </tbody>\n",
       "</table>\n",
       "</div>"
      ],
      "text/plain": [
       "       Delivery   Road Parcel    Sea   Air\n",
       "0   64581971278   NULL   NULL   42.2  NULL\n",
       "1  100086743691  48.93   NULL   NULL  NULL\n",
       "2      87370225   NULL   7.74   NULL  NULL\n",
       "3      61929359   NULL   7.74   NULL  NULL\n",
       "4  100060965448   NULL   NULL  38.19  NULL"
      ]
     },
     "execution_count": 8,
     "metadata": {},
     "output_type": "execute_result"
    }
   ],
   "source": [
    "df0 = pd.DataFrame(data = cur.fetchall(), columns = [x[0] for x in cur.description])\n",
    "df0.head()"
   ]
  },
  {
   "cell_type": "markdown",
   "metadata": {},
   "source": [
    "Freight tables have mistake in Delivery ids. We consider only the last 8 characters from left as that seems to be the valid id."
   ]
  },
  {
   "cell_type": "code",
   "execution_count": 13,
   "metadata": {},
   "outputs": [
    {
     "data": {
      "text/plain": [
       "Delivery     object\n",
       "Road        float64\n",
       "Parcel      float64\n",
       "Sea         float64\n",
       "Air         float64\n",
       "dtype: object"
      ]
     },
     "execution_count": 13,
     "metadata": {},
     "output_type": "execute_result"
    }
   ],
   "source": [
    "df0['Delivery']=df0['Delivery'].str[-8:]\n",
    "#df0['Delivery']=df0['Delivery'].str\n",
    "\n",
    "df0=df0.replace('NULL',np.nan)\n",
    "df0.dtypes"
   ]
  },
  {
   "cell_type": "code",
   "execution_count": 14,
   "metadata": {},
   "outputs": [
    {
     "data": {
      "text/html": [
       "<div>\n",
       "<style scoped>\n",
       "    .dataframe tbody tr th:only-of-type {\n",
       "        vertical-align: middle;\n",
       "    }\n",
       "\n",
       "    .dataframe tbody tr th {\n",
       "        vertical-align: top;\n",
       "    }\n",
       "\n",
       "    .dataframe thead th {\n",
       "        text-align: right;\n",
       "    }\n",
       "</style>\n",
       "<table border=\"1\" class=\"dataframe\">\n",
       "  <thead>\n",
       "    <tr style=\"text-align: right;\">\n",
       "      <th></th>\n",
       "      <th>Delivery</th>\n",
       "      <th>Road</th>\n",
       "      <th>Parcel</th>\n",
       "      <th>Sea</th>\n",
       "      <th>Air</th>\n",
       "    </tr>\n",
       "  </thead>\n",
       "  <tbody>\n",
       "    <tr>\n",
       "      <th>0</th>\n",
       "      <td>81971278</td>\n",
       "      <td>NaN</td>\n",
       "      <td>NaN</td>\n",
       "      <td>42.20</td>\n",
       "      <td>NaN</td>\n",
       "    </tr>\n",
       "    <tr>\n",
       "      <th>1</th>\n",
       "      <td>86743691</td>\n",
       "      <td>48.93</td>\n",
       "      <td>NaN</td>\n",
       "      <td>NaN</td>\n",
       "      <td>NaN</td>\n",
       "    </tr>\n",
       "    <tr>\n",
       "      <th>2</th>\n",
       "      <td>87370225</td>\n",
       "      <td>NaN</td>\n",
       "      <td>7.74</td>\n",
       "      <td>NaN</td>\n",
       "      <td>NaN</td>\n",
       "    </tr>\n",
       "    <tr>\n",
       "      <th>3</th>\n",
       "      <td>61929359</td>\n",
       "      <td>NaN</td>\n",
       "      <td>7.74</td>\n",
       "      <td>NaN</td>\n",
       "      <td>NaN</td>\n",
       "    </tr>\n",
       "    <tr>\n",
       "      <th>4</th>\n",
       "      <td>60965448</td>\n",
       "      <td>NaN</td>\n",
       "      <td>NaN</td>\n",
       "      <td>38.19</td>\n",
       "      <td>NaN</td>\n",
       "    </tr>\n",
       "  </tbody>\n",
       "</table>\n",
       "</div>"
      ],
      "text/plain": [
       "   Delivery   Road  Parcel    Sea  Air\n",
       "0  81971278    NaN     NaN  42.20  NaN\n",
       "1  86743691  48.93     NaN    NaN  NaN\n",
       "2  87370225    NaN    7.74    NaN  NaN\n",
       "3  61929359    NaN    7.74    NaN  NaN\n",
       "4  60965448    NaN     NaN  38.19  NaN"
      ]
     },
     "execution_count": 14,
     "metadata": {},
     "output_type": "execute_result"
    }
   ],
   "source": [
    "df0.head()"
   ]
  },
  {
   "cell_type": "code",
   "execution_count": 28,
   "metadata": {},
   "outputs": [
    {
     "data": {
      "text/plain": [
       "<sqlite3.Cursor at 0x2b03a00eb90>"
      ]
     },
     "execution_count": 28,
     "metadata": {},
     "output_type": "execute_result"
    }
   ],
   "source": [
    "cur.execute(\"SELECT * FROM Bill_Delivery_Items inner join Freight using(Delivery);\")"
   ]
  },
  {
   "cell_type": "code",
   "execution_count": 29,
   "metadata": {},
   "outputs": [
    {
     "data": {
      "text/plain": [
       "(('Bill', None, None, None, None, None, None),\n",
       " ('Delivery', None, None, None, None, None, None),\n",
       " ('Items', None, None, None, None, None, None),\n",
       " ('Road', None, None, None, None, None, None),\n",
       " ('Parcel', None, None, None, None, None, None),\n",
       " ('Sea', None, None, None, None, None, None),\n",
       " ('Air', None, None, None, None, None, None))"
      ]
     },
     "execution_count": 29,
     "metadata": {},
     "output_type": "execute_result"
    }
   ],
   "source": [
    "cur.description"
   ]
  },
  {
   "cell_type": "code",
   "execution_count": 30,
   "metadata": {},
   "outputs": [
    {
     "data": {
      "text/html": [
       "<div>\n",
       "<style scoped>\n",
       "    .dataframe tbody tr th:only-of-type {\n",
       "        vertical-align: middle;\n",
       "    }\n",
       "\n",
       "    .dataframe tbody tr th {\n",
       "        vertical-align: top;\n",
       "    }\n",
       "\n",
       "    .dataframe thead th {\n",
       "        text-align: right;\n",
       "    }\n",
       "</style>\n",
       "<table border=\"1\" class=\"dataframe\">\n",
       "  <thead>\n",
       "    <tr style=\"text-align: right;\">\n",
       "      <th></th>\n",
       "      <th>Bill</th>\n",
       "      <th>Delivery</th>\n",
       "      <th>Items</th>\n",
       "      <th>Road</th>\n",
       "      <th>Parcel</th>\n",
       "      <th>Sea</th>\n",
       "      <th>Air</th>\n",
       "    </tr>\n",
       "  </thead>\n",
       "  <tbody>\n",
       "    <tr>\n",
       "      <th>0</th>\n",
       "      <td>7581947713</td>\n",
       "      <td>87370225</td>\n",
       "      <td>10</td>\n",
       "      <td>NULL</td>\n",
       "      <td>7.74</td>\n",
       "      <td>NULL</td>\n",
       "      <td>NULL</td>\n",
       "    </tr>\n",
       "    <tr>\n",
       "      <th>1</th>\n",
       "      <td>7581947713</td>\n",
       "      <td>87370225</td>\n",
       "      <td>20</td>\n",
       "      <td>NULL</td>\n",
       "      <td>7.74</td>\n",
       "      <td>NULL</td>\n",
       "      <td>NULL</td>\n",
       "    </tr>\n",
       "    <tr>\n",
       "      <th>2</th>\n",
       "      <td>7581947713</td>\n",
       "      <td>87370225</td>\n",
       "      <td>30</td>\n",
       "      <td>NULL</td>\n",
       "      <td>7.74</td>\n",
       "      <td>NULL</td>\n",
       "      <td>NULL</td>\n",
       "    </tr>\n",
       "    <tr>\n",
       "      <th>3</th>\n",
       "      <td>7581947713</td>\n",
       "      <td>87370225</td>\n",
       "      <td>40</td>\n",
       "      <td>NULL</td>\n",
       "      <td>7.74</td>\n",
       "      <td>NULL</td>\n",
       "      <td>NULL</td>\n",
       "    </tr>\n",
       "    <tr>\n",
       "      <th>4</th>\n",
       "      <td>7581947713</td>\n",
       "      <td>87370225</td>\n",
       "      <td>50</td>\n",
       "      <td>NULL</td>\n",
       "      <td>7.74</td>\n",
       "      <td>NULL</td>\n",
       "      <td>NULL</td>\n",
       "    </tr>\n",
       "  </tbody>\n",
       "</table>\n",
       "</div>"
      ],
      "text/plain": [
       "         Bill  Delivery  Items  Road Parcel   Sea   Air\n",
       "0  7581947713  87370225     10  NULL   7.74  NULL  NULL\n",
       "1  7581947713  87370225     20  NULL   7.74  NULL  NULL\n",
       "2  7581947713  87370225     30  NULL   7.74  NULL  NULL\n",
       "3  7581947713  87370225     40  NULL   7.74  NULL  NULL\n",
       "4  7581947713  87370225     50  NULL   7.74  NULL  NULL"
      ]
     },
     "execution_count": 30,
     "metadata": {},
     "output_type": "execute_result"
    }
   ],
   "source": [
    "df = pd.DataFrame(data = cur.fetchall(), columns = [x[0] for x in cur.description])\n",
    "df.head()"
   ]
  },
  {
   "cell_type": "code",
   "execution_count": 31,
   "metadata": {},
   "outputs": [
    {
     "data": {
      "text/html": [
       "<div>\n",
       "<style scoped>\n",
       "    .dataframe tbody tr th:only-of-type {\n",
       "        vertical-align: middle;\n",
       "    }\n",
       "\n",
       "    .dataframe tbody tr th {\n",
       "        vertical-align: top;\n",
       "    }\n",
       "\n",
       "    .dataframe thead th {\n",
       "        text-align: right;\n",
       "    }\n",
       "</style>\n",
       "<table border=\"1\" class=\"dataframe\">\n",
       "  <thead>\n",
       "    <tr style=\"text-align: right;\">\n",
       "      <th></th>\n",
       "      <th>Bill</th>\n",
       "      <th>Delivery</th>\n",
       "      <th>Items</th>\n",
       "      <th>Road</th>\n",
       "      <th>Parcel</th>\n",
       "      <th>Sea</th>\n",
       "      <th>Air</th>\n",
       "    </tr>\n",
       "  </thead>\n",
       "  <tbody>\n",
       "    <tr>\n",
       "      <th>0</th>\n",
       "      <td>7581947713</td>\n",
       "      <td>87370225</td>\n",
       "      <td>10</td>\n",
       "      <td>NaN</td>\n",
       "      <td>7.74</td>\n",
       "      <td>NaN</td>\n",
       "      <td>NaN</td>\n",
       "    </tr>\n",
       "    <tr>\n",
       "      <th>1</th>\n",
       "      <td>7581947713</td>\n",
       "      <td>87370225</td>\n",
       "      <td>20</td>\n",
       "      <td>NaN</td>\n",
       "      <td>7.74</td>\n",
       "      <td>NaN</td>\n",
       "      <td>NaN</td>\n",
       "    </tr>\n",
       "    <tr>\n",
       "      <th>2</th>\n",
       "      <td>7581947713</td>\n",
       "      <td>87370225</td>\n",
       "      <td>30</td>\n",
       "      <td>NaN</td>\n",
       "      <td>7.74</td>\n",
       "      <td>NaN</td>\n",
       "      <td>NaN</td>\n",
       "    </tr>\n",
       "    <tr>\n",
       "      <th>3</th>\n",
       "      <td>7581947713</td>\n",
       "      <td>87370225</td>\n",
       "      <td>40</td>\n",
       "      <td>NaN</td>\n",
       "      <td>7.74</td>\n",
       "      <td>NaN</td>\n",
       "      <td>NaN</td>\n",
       "    </tr>\n",
       "    <tr>\n",
       "      <th>4</th>\n",
       "      <td>7581947713</td>\n",
       "      <td>87370225</td>\n",
       "      <td>50</td>\n",
       "      <td>NaN</td>\n",
       "      <td>7.74</td>\n",
       "      <td>NaN</td>\n",
       "      <td>NaN</td>\n",
       "    </tr>\n",
       "  </tbody>\n",
       "</table>\n",
       "</div>"
      ],
      "text/plain": [
       "         Bill  Delivery  Items  Road  Parcel  Sea  Air\n",
       "0  7581947713  87370225     10   NaN    7.74  NaN  NaN\n",
       "1  7581947713  87370225     20   NaN    7.74  NaN  NaN\n",
       "2  7581947713  87370225     30   NaN    7.74  NaN  NaN\n",
       "3  7581947713  87370225     40   NaN    7.74  NaN  NaN\n",
       "4  7581947713  87370225     50   NaN    7.74  NaN  NaN"
      ]
     },
     "execution_count": 31,
     "metadata": {},
     "output_type": "execute_result"
    }
   ],
   "source": [
    "import numpy as np\n",
    "df=df.replace('NULL',np.nan)\n",
    "df.head()"
   ]
  },
  {
   "cell_type": "code",
   "execution_count": null,
   "metadata": {},
   "outputs": [],
   "source": []
  },
  {
   "cell_type": "markdown",
   "metadata": {},
   "source": [
    "### Check the outliers in each of the delivery method"
   ]
  },
  {
   "cell_type": "markdown",
   "metadata": {},
   "source": [
    "Now let's check outliers, symmetry and skewness of data"
   ]
  },
  {
   "cell_type": "code",
   "execution_count": 32,
   "metadata": {},
   "outputs": [
    {
     "data": {
      "text/plain": [
       "<matplotlib.axes._subplots.AxesSubplot at 0x2b05074bb88>"
      ]
     },
     "execution_count": 32,
     "metadata": {},
     "output_type": "execute_result"
    },
    {
     "data": {
      "image/png": "[encoded data removed]",
      "text/plain": [
       "<Figure size 432x288 with 1 Axes>"
      ]
     },
     "metadata": {
      "needs_background": "light"
     },
     "output_type": "display_data"
    }
   ],
   "source": [
    "df.drop_duplicates().boxplot(column=['Road', 'Parcel', 'Sea', 'Air'])# This will make sure repeated rows are not taken"
   ]
  },
  {
   "cell_type": "markdown",
   "metadata": {},
   "source": [
    "We can interpret the box plot that the data is quite good skewed in all the transportation mediums viz. Road, Parcel, Sea and Air. There are some outliers in Road and a lot in case of Sea. "
   ]
  },
  {
   "cell_type": "code",
   "execution_count": 50,
   "metadata": {},
   "outputs": [],
   "source": [
    "#df[['Road','Parcel','Sea','Air']].drop_duplicates().plot(kind='bar');\n",
    "#We can see that expensive mostly ordered via parcel from the above plot"
   ]
  },
  {
   "cell_type": "markdown",
   "metadata": {},
   "source": [
    "### Check which of the transportation means is popular"
   ]
  },
  {
   "cell_type": "code",
   "execution_count": 47,
   "metadata": {
    "scrolled": true
   },
   "outputs": [
    {
     "data": {
      "image/png": "[encoded data removed]",
      "text/plain": [
       "<Figure size 432x288 with 1 Axes>"
      ]
     },
     "metadata": {
      "needs_background": "light"
     },
     "output_type": "display_data"
    }
   ],
   "source": [
    "df1_=df.drop(['Bill','Items'], axis=1)\n",
    "df1 = (df1_.melt(id_vars='Delivery')\n",
    "       .drop_duplicates(subset=['Delivery', 'value'])\n",
    "       .dropna()\n",
    "       .groupby('variable', as_index=False)\n",
    "       .size())\n",
    "plt.bar(df1['variable'], df1['size']);"
   ]
  },
  {
   "cell_type": "markdown",
   "metadata": {},
   "source": [
    "Seems all are almost equally popular. Among all, Air seems to be less popular and parcel seems to be slightly more popular."
   ]
  },
  {
   "cell_type": "markdown",
   "metadata": {},
   "source": [
    "One customer can have same bill and within same delivery the "
   ]
  },
  {
   "cell_type": "code",
   "execution_count": 51,
   "metadata": {},
   "outputs": [
    {
     "data": {
      "text/html": [
       "<div>\n",
       "<style scoped>\n",
       "    .dataframe tbody tr th:only-of-type {\n",
       "        vertical-align: middle;\n",
       "    }\n",
       "\n",
       "    .dataframe tbody tr th {\n",
       "        vertical-align: top;\n",
       "    }\n",
       "\n",
       "    .dataframe thead th {\n",
       "        text-align: right;\n",
       "    }\n",
       "</style>\n",
       "<table border=\"1\" class=\"dataframe\">\n",
       "  <thead>\n",
       "    <tr style=\"text-align: right;\">\n",
       "      <th></th>\n",
       "      <th>Bill</th>\n",
       "      <th>Delivery</th>\n",
       "      <th>Items</th>\n",
       "      <th>Road</th>\n",
       "      <th>Parcel</th>\n",
       "      <th>Sea</th>\n",
       "      <th>Air</th>\n",
       "    </tr>\n",
       "  </thead>\n",
       "  <tbody>\n",
       "    <tr>\n",
       "      <th>0</th>\n",
       "      <td>7581947713</td>\n",
       "      <td>87370225</td>\n",
       "      <td>10</td>\n",
       "      <td>NaN</td>\n",
       "      <td>7.74</td>\n",
       "      <td>NaN</td>\n",
       "      <td>NaN</td>\n",
       "    </tr>\n",
       "    <tr>\n",
       "      <th>1</th>\n",
       "      <td>7581947713</td>\n",
       "      <td>87370225</td>\n",
       "      <td>20</td>\n",
       "      <td>NaN</td>\n",
       "      <td>7.74</td>\n",
       "      <td>NaN</td>\n",
       "      <td>NaN</td>\n",
       "    </tr>\n",
       "    <tr>\n",
       "      <th>2</th>\n",
       "      <td>7581947713</td>\n",
       "      <td>87370225</td>\n",
       "      <td>30</td>\n",
       "      <td>NaN</td>\n",
       "      <td>7.74</td>\n",
       "      <td>NaN</td>\n",
       "      <td>NaN</td>\n",
       "    </tr>\n",
       "    <tr>\n",
       "      <th>3</th>\n",
       "      <td>7581947713</td>\n",
       "      <td>87370225</td>\n",
       "      <td>40</td>\n",
       "      <td>NaN</td>\n",
       "      <td>7.74</td>\n",
       "      <td>NaN</td>\n",
       "      <td>NaN</td>\n",
       "    </tr>\n",
       "    <tr>\n",
       "      <th>4</th>\n",
       "      <td>7581947713</td>\n",
       "      <td>87370225</td>\n",
       "      <td>50</td>\n",
       "      <td>NaN</td>\n",
       "      <td>7.74</td>\n",
       "      <td>NaN</td>\n",
       "      <td>NaN</td>\n",
       "    </tr>\n",
       "  </tbody>\n",
       "</table>\n",
       "</div>"
      ],
      "text/plain": [
       "         Bill  Delivery  Items  Road  Parcel  Sea  Air\n",
       "0  7581947713  87370225     10   NaN    7.74  NaN  NaN\n",
       "1  7581947713  87370225     20   NaN    7.74  NaN  NaN\n",
       "2  7581947713  87370225     30   NaN    7.74  NaN  NaN\n",
       "3  7581947713  87370225     40   NaN    7.74  NaN  NaN\n",
       "4  7581947713  87370225     50   NaN    7.74  NaN  NaN"
      ]
     },
     "execution_count": 51,
     "metadata": {},
     "output_type": "execute_result"
    }
   ],
   "source": [
    "df.drop_duplicates(subset=['Bill','Delivery','Items'], keep = 'last', inplace = True)\n",
    "df.head()"
   ]
  },
  {
   "cell_type": "code",
   "execution_count": 52,
   "metadata": {},
   "outputs": [
    {
     "data": {
      "text/plain": [
       "<sqlite3.Cursor at 0x2b03a00eb90>"
      ]
     },
     "execution_count": 52,
     "metadata": {},
     "output_type": "execute_result"
    }
   ],
   "source": [
    "cur.execute(\"SELECT * FROM Bill_Sales bs INNER JOIN Bill_Delivery_Items bdi ON bs.Bill=bdi.Bill;\")"
   ]
  },
  {
   "cell_type": "code",
   "execution_count": 56,
   "metadata": {},
   "outputs": [
    {
     "data": {
      "text/html": [
       "<div>\n",
       "<style scoped>\n",
       "    .dataframe tbody tr th:only-of-type {\n",
       "        vertical-align: middle;\n",
       "    }\n",
       "\n",
       "    .dataframe tbody tr th {\n",
       "        vertical-align: top;\n",
       "    }\n",
       "\n",
       "    .dataframe thead th {\n",
       "        text-align: right;\n",
       "    }\n",
       "</style>\n",
       "<table border=\"1\" class=\"dataframe\">\n",
       "  <thead>\n",
       "    <tr style=\"text-align: right;\">\n",
       "      <th></th>\n",
       "      <th>Bill</th>\n",
       "      <th>Sales</th>\n",
       "      <th>Customer</th>\n",
       "      <th>Bill</th>\n",
       "      <th>Delivery</th>\n",
       "      <th>Items</th>\n",
       "    </tr>\n",
       "  </thead>\n",
       "  <tbody>\n",
       "    <tr>\n",
       "      <th>0</th>\n",
       "      <td>2227224699</td>\n",
       "      <td>5685.49</td>\n",
       "      <td>HV</td>\n",
       "      <td>2227224699</td>\n",
       "      <td>81971278</td>\n",
       "      <td>10</td>\n",
       "    </tr>\n",
       "    <tr>\n",
       "      <th>1</th>\n",
       "      <td>2190637856</td>\n",
       "      <td>11884.03</td>\n",
       "      <td>LK</td>\n",
       "      <td>2190637856</td>\n",
       "      <td>86743691</td>\n",
       "      <td>80</td>\n",
       "    </tr>\n",
       "    <tr>\n",
       "      <th>2</th>\n",
       "      <td>7581947713</td>\n",
       "      <td>1265.52</td>\n",
       "      <td>YRN</td>\n",
       "      <td>7581947713</td>\n",
       "      <td>87370225</td>\n",
       "      <td>60</td>\n",
       "    </tr>\n",
       "    <tr>\n",
       "      <th>3</th>\n",
       "      <td>7756222815</td>\n",
       "      <td>35393.02</td>\n",
       "      <td>GKD</td>\n",
       "      <td>7756222815</td>\n",
       "      <td>60965448</td>\n",
       "      <td>230</td>\n",
       "    </tr>\n",
       "    <tr>\n",
       "      <th>4</th>\n",
       "      <td>4365661405</td>\n",
       "      <td>20031.54</td>\n",
       "      <td>L</td>\n",
       "      <td>4365661405</td>\n",
       "      <td>81299578</td>\n",
       "      <td>520</td>\n",
       "    </tr>\n",
       "  </tbody>\n",
       "</table>\n",
       "</div>"
      ],
      "text/plain": [
       "         Bill     Sales Customer        Bill  Delivery  Items\n",
       "0  2227224699   5685.49       HV  2227224699  81971278     10\n",
       "1  2190637856  11884.03       LK  2190637856  86743691     80\n",
       "2  7581947713   1265.52      YRN  7581947713  87370225     60\n",
       "3  7756222815  35393.02      GKD  7756222815  60965448    230\n",
       "4  4365661405  20031.54        L  4365661405  81299578    520"
      ]
     },
     "execution_count": 56,
     "metadata": {},
     "output_type": "execute_result"
    }
   ],
   "source": [
    "df1 = pd.DataFrame(data = cur.fetchall(), columns = [x[0] for x in cur.description])\n",
    "df1.head()"
   ]
  },
  {
   "cell_type": "code",
   "execution_count": 57,
   "metadata": {},
   "outputs": [
    {
     "data": {
      "text/plain": [
       "(66697, 6)"
      ]
     },
     "execution_count": 57,
     "metadata": {},
     "output_type": "execute_result"
    }
   ],
   "source": [
    "df1.shape"
   ]
  },
  {
   "cell_type": "markdown",
   "metadata": {},
   "source": [
    "### Lets check Anomolies in Sales"
   ]
  },
  {
   "cell_type": "code",
   "execution_count": 63,
   "metadata": {},
   "outputs": [
    {
     "data": {
      "text/plain": [
       "30488367.59"
      ]
     },
     "execution_count": 63,
     "metadata": {},
     "output_type": "execute_result"
    }
   ],
   "source": [
    "df1['Sales'].max() # Checks Maximum Sales"
   ]
  },
  {
   "cell_type": "code",
   "execution_count": 64,
   "metadata": {},
   "outputs": [
    {
     "name": "stdout",
     "output_type": "stream",
     "text": [
      "             Bill     Sales Customer        Bill  Delivery  Items\n",
      "883    5278766207      0.00      AGK  5278766207  60330214    190\n",
      "1049   5278766207      0.00      AGK  5278766207  60330214     20\n",
      "4503   5278766207      0.00      AGK  5278766207  60330214    220\n",
      "6061   5278766207      0.00      AGK  5278766207  60330214     90\n",
      "6338   9372915127      0.00      UQP  9372915127  82868979     10\n",
      "6502   5278766207      0.00      AGK  5278766207  60330214    290\n",
      "6801   5278766207      0.00      AGK  5278766207  60330214     50\n",
      "11302  2446300991      0.00       QG  2446300991  69449922     10\n",
      "16169  9021340138      0.00       LK  9021340138  87488147     40\n",
      "16647  5278766207      0.00      AGK  5278766207  60330214    330\n",
      "18117  5278766207      0.00      AGK  5278766207  60330214    320\n",
      "18461  5278766207      0.00      AGK  5278766207  60330214    210\n",
      "18740   578960406      0.00      BDP  0578960406  81699531     10\n",
      "18947  5278766207      0.00      AGK  5278766207  60330214     70\n",
      "20929  5278766207      0.00      AGK  5278766207  60330214     60\n",
      "20957  5278766207      0.00      AGK  5278766207  60330214    300\n",
      "22000  5278766207      0.00      AGK  5278766207  60330214    370\n",
      "23100  5278766207      0.00      AGK  5278766207  60330214    100\n",
      "29553  5278766207      0.00      AGK  5278766207  60330214    150\n",
      "30863  5278766207      0.00      AGK  5278766207  60330214     80\n",
      "33075  5278766207      0.00      AGK  5278766207  60330214    270\n",
      "33625  5278766207      0.00      AGK  5278766207  60330214    180\n",
      "33879  5278766207      0.00      AGK  5278766207  60330214    230\n",
      "34039  5278766207      0.00      AGK  5278766207  60330214    110\n",
      "36573  5278766207      0.00      AGK  5278766207  60330214     30\n",
      "38680  5278766207      0.00      AGK  5278766207  60330214    260\n",
      "40621  5278766207      0.00      AGK  5278766207  60330214    120\n",
      "43090  5278766207      0.00      AGK  5278766207  60330214     10\n",
      "45290  5278766207      0.00      AGK  5278766207  60330214    240\n",
      "46892  8781898077  -1232.96       QK  8781898077  66878582     10\n",
      "47115  5278766207      0.00      AGK  5278766207  60330214    200\n",
      "48058  2703332792      0.00       AU  2703332792  72023056     10\n",
      "52893  5278766207      0.00      AGK  5278766207  60330214     40\n",
      "55172  5278766207      0.00      AGK  5278766207  60330214    350\n",
      "55489  5278766207      0.00      AGK  5278766207  60330214    280\n",
      "60013  1683750389 -25157.26      UAN  1683750389  71431811     10\n",
      "60347  5278766207      0.00      AGK  5278766207  60330214    340\n",
      "60697  5278766207      0.00      AGK  5278766207  60330214    130\n",
      "61321  3160175135      0.00      MFM  3160175135  72852314     10\n",
      "63463  5278766207      0.00      AGK  5278766207  60330214    360\n",
      "64879  2913197890 -29999.56      OSN  2913197890  80958203     10\n",
      "65598  5278766207      0.00      AGK  5278766207  60330214    250\n"
     ]
    }
   ],
   "source": [
    "#Lets find out negative sales\n",
    "is_neg  = df1['Sales']<=0\n",
    "print(df1[is_neg])"
   ]
  },
  {
   "cell_type": "markdown",
   "metadata": {},
   "source": [
    "#### Maximum ordered item"
   ]
  },
  {
   "cell_type": "code",
   "execution_count": 65,
   "metadata": {},
   "outputs": [
    {
     "data": {
      "text/plain": [
       "3320"
      ]
     },
     "execution_count": 65,
     "metadata": {},
     "output_type": "execute_result"
    }
   ],
   "source": [
    "df1['Items'].max()"
   ]
  },
  {
   "cell_type": "markdown",
   "metadata": {},
   "source": [
    "#### Lets find out top 10 popular Customers"
   ]
  },
  {
   "cell_type": "code",
   "execution_count": 101,
   "metadata": {},
   "outputs": [
    {
     "data": {
      "text/plain": [
       "['A', 'KQA', 'ALF', 'T', 'TBV', 'TT', 'VR', 'RNM', 'OF', 'Q']"
      ]
     },
     "execution_count": 101,
     "metadata": {},
     "output_type": "execute_result"
    }
   ],
   "source": [
    "n = 10\n",
    "df1['Customer'].value_counts()[:n].index.tolist()"
   ]
  },
  {
   "cell_type": "markdown",
   "metadata": {},
   "source": [
    "### Merge the two dataframes now ?"
   ]
  },
  {
   "cell_type": "markdown",
   "metadata": {},
   "source": [
    "Now Lets merge the two dataframes df and df1"
   ]
  },
  {
   "cell_type": "code",
   "execution_count": 67,
   "metadata": {},
   "outputs": [
    {
     "data": {
      "text/html": [
       "<div>\n",
       "<style scoped>\n",
       "    .dataframe tbody tr th:only-of-type {\n",
       "        vertical-align: middle;\n",
       "    }\n",
       "\n",
       "    .dataframe tbody tr th {\n",
       "        vertical-align: top;\n",
       "    }\n",
       "\n",
       "    .dataframe thead th {\n",
       "        text-align: right;\n",
       "    }\n",
       "</style>\n",
       "<table border=\"1\" class=\"dataframe\">\n",
       "  <thead>\n",
       "    <tr style=\"text-align: right;\">\n",
       "      <th></th>\n",
       "      <th>Bill</th>\n",
       "      <th>Delivery</th>\n",
       "      <th>Items</th>\n",
       "      <th>Road</th>\n",
       "      <th>Parcel</th>\n",
       "      <th>Sea</th>\n",
       "      <th>Air</th>\n",
       "    </tr>\n",
       "  </thead>\n",
       "  <tbody>\n",
       "    <tr>\n",
       "      <th>0</th>\n",
       "      <td>7581947713</td>\n",
       "      <td>87370225</td>\n",
       "      <td>10</td>\n",
       "      <td>NaN</td>\n",
       "      <td>7.74</td>\n",
       "      <td>NaN</td>\n",
       "      <td>NaN</td>\n",
       "    </tr>\n",
       "    <tr>\n",
       "      <th>1</th>\n",
       "      <td>7581947713</td>\n",
       "      <td>87370225</td>\n",
       "      <td>20</td>\n",
       "      <td>NaN</td>\n",
       "      <td>7.74</td>\n",
       "      <td>NaN</td>\n",
       "      <td>NaN</td>\n",
       "    </tr>\n",
       "    <tr>\n",
       "      <th>2</th>\n",
       "      <td>7581947713</td>\n",
       "      <td>87370225</td>\n",
       "      <td>30</td>\n",
       "      <td>NaN</td>\n",
       "      <td>7.74</td>\n",
       "      <td>NaN</td>\n",
       "      <td>NaN</td>\n",
       "    </tr>\n",
       "  </tbody>\n",
       "</table>\n",
       "</div>"
      ],
      "text/plain": [
       "         Bill  Delivery  Items  Road  Parcel  Sea  Air\n",
       "0  7581947713  87370225     10   NaN    7.74  NaN  NaN\n",
       "1  7581947713  87370225     20   NaN    7.74  NaN  NaN\n",
       "2  7581947713  87370225     30   NaN    7.74  NaN  NaN"
      ]
     },
     "execution_count": 67,
     "metadata": {},
     "output_type": "execute_result"
    }
   ],
   "source": [
    "df.head(3)"
   ]
  },
  {
   "cell_type": "code",
   "execution_count": 68,
   "metadata": {},
   "outputs": [
    {
     "data": {
      "text/html": [
       "<div>\n",
       "<style scoped>\n",
       "    .dataframe tbody tr th:only-of-type {\n",
       "        vertical-align: middle;\n",
       "    }\n",
       "\n",
       "    .dataframe tbody tr th {\n",
       "        vertical-align: top;\n",
       "    }\n",
       "\n",
       "    .dataframe thead th {\n",
       "        text-align: right;\n",
       "    }\n",
       "</style>\n",
       "<table border=\"1\" class=\"dataframe\">\n",
       "  <thead>\n",
       "    <tr style=\"text-align: right;\">\n",
       "      <th></th>\n",
       "      <th>Bill</th>\n",
       "      <th>Sales</th>\n",
       "      <th>Customer</th>\n",
       "      <th>Bill</th>\n",
       "      <th>Delivery</th>\n",
       "      <th>Items</th>\n",
       "    </tr>\n",
       "  </thead>\n",
       "  <tbody>\n",
       "    <tr>\n",
       "      <th>0</th>\n",
       "      <td>2227224699</td>\n",
       "      <td>5685.49</td>\n",
       "      <td>HV</td>\n",
       "      <td>2227224699</td>\n",
       "      <td>81971278</td>\n",
       "      <td>10</td>\n",
       "    </tr>\n",
       "    <tr>\n",
       "      <th>1</th>\n",
       "      <td>2190637856</td>\n",
       "      <td>11884.03</td>\n",
       "      <td>LK</td>\n",
       "      <td>2190637856</td>\n",
       "      <td>86743691</td>\n",
       "      <td>80</td>\n",
       "    </tr>\n",
       "    <tr>\n",
       "      <th>2</th>\n",
       "      <td>7581947713</td>\n",
       "      <td>1265.52</td>\n",
       "      <td>YRN</td>\n",
       "      <td>7581947713</td>\n",
       "      <td>87370225</td>\n",
       "      <td>60</td>\n",
       "    </tr>\n",
       "  </tbody>\n",
       "</table>\n",
       "</div>"
      ],
      "text/plain": [
       "         Bill     Sales Customer        Bill  Delivery  Items\n",
       "0  2227224699   5685.49       HV  2227224699  81971278     10\n",
       "1  2190637856  11884.03       LK  2190637856  86743691     80\n",
       "2  7581947713   1265.52      YRN  7581947713  87370225     60"
      ]
     },
     "execution_count": 68,
     "metadata": {},
     "output_type": "execute_result"
    }
   ],
   "source": [
    "df1.head(3)"
   ]
  },
  {
   "cell_type": "code",
   "execution_count": 78,
   "metadata": {},
   "outputs": [
    {
     "data": {
      "text/html": [
       "<div>\n",
       "<style scoped>\n",
       "    .dataframe tbody tr th:only-of-type {\n",
       "        vertical-align: middle;\n",
       "    }\n",
       "\n",
       "    .dataframe tbody tr th {\n",
       "        vertical-align: top;\n",
       "    }\n",
       "\n",
       "    .dataframe thead th {\n",
       "        text-align: right;\n",
       "    }\n",
       "</style>\n",
       "<table border=\"1\" class=\"dataframe\">\n",
       "  <thead>\n",
       "    <tr style=\"text-align: right;\">\n",
       "      <th></th>\n",
       "      <th>Bill_x</th>\n",
       "      <th>Delivery</th>\n",
       "      <th>Items_x</th>\n",
       "      <th>Road</th>\n",
       "      <th>Parcel</th>\n",
       "      <th>Sea</th>\n",
       "      <th>Air</th>\n",
       "      <th>Bill_y</th>\n",
       "      <th>Sales</th>\n",
       "      <th>Customer</th>\n",
       "      <th>Bill_y</th>\n",
       "      <th>Items_y</th>\n",
       "    </tr>\n",
       "  </thead>\n",
       "  <tbody>\n",
       "    <tr>\n",
       "      <th>0</th>\n",
       "      <td>7581947713</td>\n",
       "      <td>87370225</td>\n",
       "      <td>10</td>\n",
       "      <td>NaN</td>\n",
       "      <td>7.74</td>\n",
       "      <td>NaN</td>\n",
       "      <td>NaN</td>\n",
       "      <td>7581947713</td>\n",
       "      <td>1265.52</td>\n",
       "      <td>YRN</td>\n",
       "      <td>7581947713</td>\n",
       "      <td>60</td>\n",
       "    </tr>\n",
       "    <tr>\n",
       "      <th>1</th>\n",
       "      <td>7581947713</td>\n",
       "      <td>87370225</td>\n",
       "      <td>10</td>\n",
       "      <td>NaN</td>\n",
       "      <td>7.74</td>\n",
       "      <td>NaN</td>\n",
       "      <td>NaN</td>\n",
       "      <td>7581947713</td>\n",
       "      <td>1265.52</td>\n",
       "      <td>YRN</td>\n",
       "      <td>7581947713</td>\n",
       "      <td>50</td>\n",
       "    </tr>\n",
       "    <tr>\n",
       "      <th>2</th>\n",
       "      <td>7581947713</td>\n",
       "      <td>87370225</td>\n",
       "      <td>10</td>\n",
       "      <td>NaN</td>\n",
       "      <td>7.74</td>\n",
       "      <td>NaN</td>\n",
       "      <td>NaN</td>\n",
       "      <td>7581947713</td>\n",
       "      <td>1265.52</td>\n",
       "      <td>YRN</td>\n",
       "      <td>7581947713</td>\n",
       "      <td>20</td>\n",
       "    </tr>\n",
       "    <tr>\n",
       "      <th>3</th>\n",
       "      <td>7581947713</td>\n",
       "      <td>87370225</td>\n",
       "      <td>10</td>\n",
       "      <td>NaN</td>\n",
       "      <td>7.74</td>\n",
       "      <td>NaN</td>\n",
       "      <td>NaN</td>\n",
       "      <td>7581947713</td>\n",
       "      <td>1265.52</td>\n",
       "      <td>YRN</td>\n",
       "      <td>7581947713</td>\n",
       "      <td>10</td>\n",
       "    </tr>\n",
       "    <tr>\n",
       "      <th>4</th>\n",
       "      <td>7581947713</td>\n",
       "      <td>87370225</td>\n",
       "      <td>10</td>\n",
       "      <td>NaN</td>\n",
       "      <td>7.74</td>\n",
       "      <td>NaN</td>\n",
       "      <td>NaN</td>\n",
       "      <td>7581947713</td>\n",
       "      <td>1265.52</td>\n",
       "      <td>YRN</td>\n",
       "      <td>7581947713</td>\n",
       "      <td>30</td>\n",
       "    </tr>\n",
       "  </tbody>\n",
       "</table>\n",
       "</div>"
      ],
      "text/plain": [
       "       Bill_x  Delivery  Items_x  Road  Parcel  Sea  Air      Bill_y    Sales  \\\n",
       "0  7581947713  87370225       10   NaN    7.74  NaN  NaN  7581947713  1265.52   \n",
       "1  7581947713  87370225       10   NaN    7.74  NaN  NaN  7581947713  1265.52   \n",
       "2  7581947713  87370225       10   NaN    7.74  NaN  NaN  7581947713  1265.52   \n",
       "3  7581947713  87370225       10   NaN    7.74  NaN  NaN  7581947713  1265.52   \n",
       "4  7581947713  87370225       10   NaN    7.74  NaN  NaN  7581947713  1265.52   \n",
       "\n",
       "  Customer      Bill_y  Items_y  \n",
       "0      YRN  7581947713       60  \n",
       "1      YRN  7581947713       50  \n",
       "2      YRN  7581947713       20  \n",
       "3      YRN  7581947713       10  \n",
       "4      YRN  7581947713       30  "
      ]
     },
     "execution_count": 78,
     "metadata": {},
     "output_type": "execute_result"
    }
   ],
   "source": [
    "df2 = pd.merge(df, df1, on='Delivery')\n",
    "df2.head()"
   ]
  },
  {
   "cell_type": "code",
   "execution_count": 79,
   "metadata": {},
   "outputs": [],
   "source": [
    "df2 = df2.drop_duplicates()"
   ]
  },
  {
   "cell_type": "code",
   "execution_count": 80,
   "metadata": {},
   "outputs": [
    {
     "data": {
      "text/html": [
       "<div>\n",
       "<style scoped>\n",
       "    .dataframe tbody tr th:only-of-type {\n",
       "        vertical-align: middle;\n",
       "    }\n",
       "\n",
       "    .dataframe tbody tr th {\n",
       "        vertical-align: top;\n",
       "    }\n",
       "\n",
       "    .dataframe thead th {\n",
       "        text-align: right;\n",
       "    }\n",
       "</style>\n",
       "<table border=\"1\" class=\"dataframe\">\n",
       "  <thead>\n",
       "    <tr style=\"text-align: right;\">\n",
       "      <th></th>\n",
       "      <th>Bill_x</th>\n",
       "      <th>Delivery</th>\n",
       "      <th>Items_x</th>\n",
       "      <th>Road</th>\n",
       "      <th>Parcel</th>\n",
       "      <th>Sea</th>\n",
       "      <th>Air</th>\n",
       "      <th>Bill_y</th>\n",
       "      <th>Sales</th>\n",
       "      <th>Customer</th>\n",
       "      <th>Bill_y</th>\n",
       "      <th>Items_y</th>\n",
       "    </tr>\n",
       "  </thead>\n",
       "  <tbody>\n",
       "    <tr>\n",
       "      <th>0</th>\n",
       "      <td>7581947713</td>\n",
       "      <td>87370225</td>\n",
       "      <td>10</td>\n",
       "      <td>NaN</td>\n",
       "      <td>7.74</td>\n",
       "      <td>NaN</td>\n",
       "      <td>NaN</td>\n",
       "      <td>7581947713</td>\n",
       "      <td>1265.52</td>\n",
       "      <td>YRN</td>\n",
       "      <td>7581947713</td>\n",
       "      <td>60</td>\n",
       "    </tr>\n",
       "    <tr>\n",
       "      <th>1</th>\n",
       "      <td>7581947713</td>\n",
       "      <td>87370225</td>\n",
       "      <td>10</td>\n",
       "      <td>NaN</td>\n",
       "      <td>7.74</td>\n",
       "      <td>NaN</td>\n",
       "      <td>NaN</td>\n",
       "      <td>7581947713</td>\n",
       "      <td>1265.52</td>\n",
       "      <td>YRN</td>\n",
       "      <td>7581947713</td>\n",
       "      <td>50</td>\n",
       "    </tr>\n",
       "    <tr>\n",
       "      <th>2</th>\n",
       "      <td>7581947713</td>\n",
       "      <td>87370225</td>\n",
       "      <td>10</td>\n",
       "      <td>NaN</td>\n",
       "      <td>7.74</td>\n",
       "      <td>NaN</td>\n",
       "      <td>NaN</td>\n",
       "      <td>7581947713</td>\n",
       "      <td>1265.52</td>\n",
       "      <td>YRN</td>\n",
       "      <td>7581947713</td>\n",
       "      <td>20</td>\n",
       "    </tr>\n",
       "    <tr>\n",
       "      <th>3</th>\n",
       "      <td>7581947713</td>\n",
       "      <td>87370225</td>\n",
       "      <td>10</td>\n",
       "      <td>NaN</td>\n",
       "      <td>7.74</td>\n",
       "      <td>NaN</td>\n",
       "      <td>NaN</td>\n",
       "      <td>7581947713</td>\n",
       "      <td>1265.52</td>\n",
       "      <td>YRN</td>\n",
       "      <td>7581947713</td>\n",
       "      <td>10</td>\n",
       "    </tr>\n",
       "    <tr>\n",
       "      <th>4</th>\n",
       "      <td>7581947713</td>\n",
       "      <td>87370225</td>\n",
       "      <td>10</td>\n",
       "      <td>NaN</td>\n",
       "      <td>7.74</td>\n",
       "      <td>NaN</td>\n",
       "      <td>NaN</td>\n",
       "      <td>7581947713</td>\n",
       "      <td>1265.52</td>\n",
       "      <td>YRN</td>\n",
       "      <td>7581947713</td>\n",
       "      <td>30</td>\n",
       "    </tr>\n",
       "  </tbody>\n",
       "</table>\n",
       "</div>"
      ],
      "text/plain": [
       "       Bill_x  Delivery  Items_x  Road  Parcel  Sea  Air      Bill_y    Sales  \\\n",
       "0  7581947713  87370225       10   NaN    7.74  NaN  NaN  7581947713  1265.52   \n",
       "1  7581947713  87370225       10   NaN    7.74  NaN  NaN  7581947713  1265.52   \n",
       "2  7581947713  87370225       10   NaN    7.74  NaN  NaN  7581947713  1265.52   \n",
       "3  7581947713  87370225       10   NaN    7.74  NaN  NaN  7581947713  1265.52   \n",
       "4  7581947713  87370225       10   NaN    7.74  NaN  NaN  7581947713  1265.52   \n",
       "\n",
       "  Customer      Bill_y  Items_y  \n",
       "0      YRN  7581947713       60  \n",
       "1      YRN  7581947713       50  \n",
       "2      YRN  7581947713       20  \n",
       "3      YRN  7581947713       10  \n",
       "4      YRN  7581947713       30  "
      ]
     },
     "execution_count": 80,
     "metadata": {},
     "output_type": "execute_result"
    }
   ],
   "source": [
    "df2.head()"
   ]
  },
  {
   "cell_type": "code",
   "execution_count": 82,
   "metadata": {},
   "outputs": [
    {
     "data": {
      "text/plain": [
       "(2734012, 12)"
      ]
     },
     "execution_count": 82,
     "metadata": {},
     "output_type": "execute_result"
    }
   ],
   "source": [
    "df2.shape"
   ]
  },
  {
   "cell_type": "code",
   "execution_count": null,
   "metadata": {},
   "outputs": [],
   "source": []
  }
 ],
 "metadata": {
  "kernelspec": {
   "display_name": "Python 3",
   "language": "python",
   "name": "python3"
  },
  "language_info": {
   "codemirror_mode": {
    "name": "ipython",
    "version": 3
   },
   "file_extension": ".py",
   "mimetype": "text/x-python",
   "name": "python",
   "nbconvert_exporter": "python",
   "pygments_lexer": "ipython3",
   "version": "3.7.6"
  }
 },
 "nbformat": 4,
 "nbformat_minor": 4
}
